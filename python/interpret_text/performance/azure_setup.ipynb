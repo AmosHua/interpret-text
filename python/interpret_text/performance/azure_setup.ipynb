{
 "cells": [
  {
   "cell_type": "code",
   "execution_count": 1,
   "metadata": {},
   "outputs": [],
   "source": [
    "from azureml.core import Workspace\n",
    "subscription_id = \"15ae9cb6-95c1-483d-a0e3-b1a1a3b06324\"\n",
    "resource_group = \"nlpinterpret\"\n",
    "workspace_name = \"performanceBenchmarking\"\n",
    "workspace_region = \"eastus2\""
   ]
  },
  {
   "cell_type": "code",
   "execution_count": 2,
   "metadata": {},
   "outputs": [
    {
     "name": "stdout",
     "output_type": "stream",
     "text": [
      "Workspace configuration succeeded. Skip the workspace creation steps below\n"
     ]
    }
   ],
   "source": [
    "try:\n",
    "    ws = Workspace(subscription_id = subscription_id, resource_group = resource_group, workspace_name = workspace_name)\n",
    "    # write the details of the workspace to a configuration file to the notebook library\n",
    "    ws.write_config()\n",
    "    print(\"Workspace configuration succeeded. Skip the workspace creation steps below\")\n",
    "except:\n",
    "    print(\"Workspace not accessible. Change your parameters or create a new workspace below\")\n",
    "\n"
   ]
  },
  {
   "cell_type": "code",
   "execution_count": 3,
   "metadata": {},
   "outputs": [],
   "source": [
    "experiment_name = 'performance-benchmarking-remote-vm'\n",
    "\n",
    "from azureml.core import Experiment\n",
    "exp = Experiment(workspace=ws, name=experiment_name)\n",
    "\n",
    "\n",
    "import os\n",
    "script_folder = './vm-run'\n",
    "os.makedirs(script_folder, exist_ok=True)"
   ]
  },
  {
   "cell_type": "code",
   "execution_count": null,
   "metadata": {},
   "outputs": [],
   "source": []
  },
  {
   "cell_type": "code",
   "execution_count": 14,
   "metadata": {},
   "outputs": [
    {
     "name": "stdout",
     "output_type": "stream",
     "text": [
      "found existing: benchPerf\n"
     ]
    }
   ],
   "source": [
    "from azureml.core.compute import ComputeTarget, RemoteCompute\n",
    "from azureml.core.compute_target import ComputeTargetException\n",
    "\n",
    "username = \"nlp_text\"\n",
    "address = \"40.71.179.131\"\n",
    "\n",
    "compute_target_name = 'benchPerf'\n",
    "#if you want to connect using SSH key instead of username/password you can provide parameters private_key_file and private_key_passphrase \n",
    "try:\n",
    "    attached_dsvm_compute = RemoteCompute(workspace=ws, name=compute_target_name)\n",
    "    print('found existing:', attached_dsvm_compute.name)\n",
    "except ComputeTargetException:\n",
    "    attach_config = RemoteCompute.attach_configuration(address=address,\n",
    "                                                       ssh_port=22,\n",
    "                                                       username=username,\n",
    "                                                       private_key_file='./.ssh/id_rsa')\n",
    "    attached_dsvm_compute = ComputeTarget.attach(workspace=ws,\n",
    "                                                 name=compute_target_name,\n",
    "                                                 attach_configuration=attach_config)\n",
    "    attached_dsvm_compute.wait_for_completion(show_output=True)"
   ]
  },
  {
   "cell_type": "code",
   "execution_count": null,
   "metadata": {},
   "outputs": [],
   "source": [
    "from azureml.core import ScriptRunConfig\n",
    "from uuid import uuid4\n",
    "\n",
    "src = ScriptRunConfig(source_directory=script_folder, \n",
    "                      script='../scripts/test_run.py', \n",
    "                      # pass the dataset as a parameter to the training script\n",
    "                    #   arguments=['--data-folder',  \n",
    "                    #              dataset.as_named_input('diabetes').as_mount('/tmp/{}'.format(uuid4()))]\n",
    "                     ) \n",
    "\n",
    "src.run_config.framework = \"python\"\n",
    "src.run_config.target = attached_dsvm_compute.name\n",
    "\n",
    "\n",
    "run = exp.submit(config=src)"
   ]
  },
  {
   "cell_type": "code",
   "execution_count": null,
   "metadata": {},
   "outputs": [],
   "source": [
    "from azureml.widgets import RunDetails\n",
    "RunDetails(run).show()\n",
    "\n",
    "run.wait_for_completion(show_output=True)"
   ]
  },
  {
   "cell_type": "code",
   "execution_count": null,
   "metadata": {},
   "outputs": [],
   "source": []
  },
  {
   "cell_type": "code",
   "execution_count": null,
   "metadata": {},
   "outputs": [],
   "source": []
  }
 ],
 "metadata": {
  "kernelspec": {
   "display_name": "Python (interpret-text)",
   "language": "python",
   "name": "interpret-text-kernel"
  },
  "language_info": {
   "codemirror_mode": {
    "name": "ipython",
    "version": 3
   },
   "file_extension": ".py",
   "mimetype": "text/x-python",
   "name": "python",
   "nbconvert_exporter": "python",
   "pygments_lexer": "ipython3",
   "version": "3.7.4"
  }
 },
 "nbformat": 4,
 "nbformat_minor": 2
}
