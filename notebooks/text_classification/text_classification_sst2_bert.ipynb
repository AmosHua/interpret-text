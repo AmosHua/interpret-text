{
 "cells": [
  {
   "cell_type": "markdown",
   "metadata": {},
   "source": [
    "*Copyright (c) Microsoft Corporation. All rights reserved.*\n",
    "\n",
    "*Licensed under the MIT License.*\n",
    "\n",
    "# Text Classification of SST-2 Sentences using BERT"
   ]
  },
  {
   "cell_type": "markdown",
   "metadata": {},
   "source": [
    "# Before You Start\n",
    "\n",
    "> **Tip**: If you want to run through the notebook quickly, you can set the **`QUICK_RUN`** flag in the cell below to **`True`**. This will run the notebook on a small subset of the data and a use a smaller number of epochs. \n",
    "\n",
    "If you run into CUDA out-of-memory error or the jupyter kernel dies constantly, try reducing the `BATCH_SIZE` and `MAX_LEN`, but note that model performance will be compromised. "
   ]
  },
  {
   "cell_type": "code",
   "execution_count": 1,
   "metadata": {},
   "outputs": [],
   "source": [
    "## Set QUICK_RUN = True to run the notebook on a small subset of data and a smaller number of epochs.\n",
    "QUICK_RUN = True"
   ]
  },
  {
   "cell_type": "code",
   "execution_count": 2,
   "metadata": {},
   "outputs": [
    {
     "name": "stderr",
     "output_type": "stream",
     "text": [
      "I0109 11:10:53.883785 140364218693440 file_utils.py:37] PyTorch version 1.3.1 available.\n",
      "/home/maidap/anaconda3/envs/interpret_cpu_extern/lib/python3.6/site-packages/tensorflow/python/framework/dtypes.py:523: FutureWarning: Passing (type, 1) or '1type' as a synonym of type is deprecated; in a future version of numpy, it will be understood as (type, (1,)) / '(1,)type'.\n",
      "  _np_qint8 = np.dtype([(\"qint8\", np.int8, 1)])\n",
      "/home/maidap/anaconda3/envs/interpret_cpu_extern/lib/python3.6/site-packages/tensorflow/python/framework/dtypes.py:524: FutureWarning: Passing (type, 1) or '1type' as a synonym of type is deprecated; in a future version of numpy, it will be understood as (type, (1,)) / '(1,)type'.\n",
      "  _np_quint8 = np.dtype([(\"quint8\", np.uint8, 1)])\n",
      "/home/maidap/anaconda3/envs/interpret_cpu_extern/lib/python3.6/site-packages/tensorflow/python/framework/dtypes.py:525: FutureWarning: Passing (type, 1) or '1type' as a synonym of type is deprecated; in a future version of numpy, it will be understood as (type, (1,)) / '(1,)type'.\n",
      "  _np_qint16 = np.dtype([(\"qint16\", np.int16, 1)])\n",
      "/home/maidap/anaconda3/envs/interpret_cpu_extern/lib/python3.6/site-packages/tensorflow/python/framework/dtypes.py:526: FutureWarning: Passing (type, 1) or '1type' as a synonym of type is deprecated; in a future version of numpy, it will be understood as (type, (1,)) / '(1,)type'.\n",
      "  _np_quint16 = np.dtype([(\"quint16\", np.uint16, 1)])\n",
      "/home/maidap/anaconda3/envs/interpret_cpu_extern/lib/python3.6/site-packages/tensorflow/python/framework/dtypes.py:527: FutureWarning: Passing (type, 1) or '1type' as a synonym of type is deprecated; in a future version of numpy, it will be understood as (type, (1,)) / '(1,)type'.\n",
      "  _np_qint32 = np.dtype([(\"qint32\", np.int32, 1)])\n",
      "/home/maidap/anaconda3/envs/interpret_cpu_extern/lib/python3.6/site-packages/tensorflow/python/framework/dtypes.py:532: FutureWarning: Passing (type, 1) or '1type' as a synonym of type is deprecated; in a future version of numpy, it will be understood as (type, (1,)) / '(1,)type'.\n",
      "  np_resource = np.dtype([(\"resource\", np.ubyte, 1)])\n",
      "I0109 11:10:54.877334 140364218693440 modeling.py:230] Better speed can be achieved with apex installed from https://www.github.com/nvidia/apex .\n"
     ]
    }
   ],
   "source": [
    "import sys\n",
    "sys.path.append(\"../../\")\n",
    "import os\n",
    "import json\n",
    "import pandas as pd\n",
    "import numpy as np\n",
    "import scrapbook as sb\n",
    "from sklearn.metrics import classification_report, accuracy_score\n",
    "from sklearn.preprocessing import LabelEncoder\n",
    "from sklearn.model_selection import train_test_split\n",
    "import torch\n",
    "import torch.nn as nn\n",
    "\n",
    "from utils_nlp.dataset.multinli import load_pandas_df \n",
    "from utils_nlp.models.bert.sequence_classification import BERTSequenceClassifier\n",
    "from utils_nlp.models.bert.common import Language, Tokenizer\n",
    "from utils_nlp.common.timer import Timer"
   ]
  },
  {
   "cell_type": "code",
   "execution_count": 3,
   "metadata": {},
   "outputs": [],
   "source": [
    "from interpret_text.msra.MSRAExplainer import MSRAExplainer"
   ]
  },
  {
   "cell_type": "markdown",
   "metadata": {},
   "source": [
    "## Introduction\n",
    "In this notebook, we fine-tune and evaluate a pretrained [BERT](https://arxiv.org/abs/1810.04805) model on a subset of the [SST-2](https://nlp.stanford.edu/sentiment/index.html/) dataset. To run this notebook, we used the SST-2 data files provided [here](https://github.com/AcademiaSinicaNLPLab/sentiment_dataset). You should download files matching data/sst2.binary.* into a folder and point DATA_FOLDER (below) to that folder.\n",
    "\n",
    "We use a [sequence classifier](https://github.com/microsoft/nlp/blob/master/utils_nlp/models/bert/sequence_classification.py) that wraps [Hugging Face's PyTorch implementation](https://github.com/huggingface/pytorch-pretrained-BERT) of Google's [BERT](https://github.com/google-research/bert)."
   ]
  },
  {
   "cell_type": "markdown",
   "metadata": {},
   "source": [
    "### Set parameters\n",
    "Here we set some parameters that we use for our modeling task."
   ]
  },
  {
   "cell_type": "code",
   "execution_count": 4,
   "metadata": {},
   "outputs": [],
   "source": [
    "TRAIN_DATA_FRACTION = 1\n",
    "TEST_DATA_FRACTION = 1\n",
    "NUM_EPOCHS = 1\n",
    "\n",
    "if QUICK_RUN:\n",
    "    TRAIN_DATA_FRACTION = 0.01\n",
    "    TEST_DATA_FRACTION = 0.01\n",
    "    NUM_EPOCHS = 1\n",
    "\n",
    "if torch.cuda.is_available():\n",
    "    BATCH_SIZE = 32\n",
    "else:\n",
    "    BATCH_SIZE = 8\n",
    "\n",
    "DATA_FOLDER = \"../../../data/sst2\"\n",
    "BERT_CACHE_DIR = \"./temp/sst2\"\n",
    "LANGUAGE = Language.ENGLISH\n",
    "TO_LOWER = True\n",
    "MAX_LEN = 150\n",
    "BATCH_SIZE_PRED = 512\n",
    "TRAIN_SIZE = 0.6\n",
    "LABEL_COL = \"labels\" \n",
    "TEXT_COL = \"sentences\""
   ]
  },
  {
   "cell_type": "markdown",
   "metadata": {},
   "source": [
    "## Read Dataset\n",
    "We start by loading a subset of the data. The following function also downloads and extracts the files, if they don't exist in the data folder.\n",
    "\n",
    "The SST-2 dataset is dataset of Rotten Tomatoes movie reviews mainly used for natural language inference (NLI) tasks, where the inputs are sentences and the labels are binary (positive or negative) sentiment indicators. "
   ]
  },
  {
   "cell_type": "markdown",
   "metadata": {},
   "source": [
    "We start by loading the data for training and testing:"
   ]
  },
  {
   "cell_type": "code",
   "execution_count": 5,
   "metadata": {},
   "outputs": [],
   "source": [
    "def load_data(fpath):\n",
    "    df_dict = {LABEL_COL: [], TEXT_COL: []}\n",
    "    with open(fpath, 'r') as f:\n",
    "        label_start = 0\n",
    "        sentence_start = 2\n",
    "        for line in f:\n",
    "            label = int(line[label_start])\n",
    "            sentence = line[sentence_start:]\n",
    "            df_dict['labels'].append(label)\n",
    "            df_dict['sentences'].append(sentence)\n",
    "    return pd.DataFrame.from_dict(df_dict)\n",
    "\n",
    "df_train = load_data(os.path.join(DATA_FOLDER, 'stsa.binary.train'))\n",
    "df_test = load_data(os.path.join(DATA_FOLDER, 'stsa.binary.test'))\n",
    "\n",
    "\n",
    "if QUICK_RUN:\n",
    "    df_train = df_train.sample(frac=TRAIN_DATA_FRACTION).reset_index(drop=True)\n",
    "    df_test = df_test.sample(frac=TEST_DATA_FRACTION).reset_index(drop=True)"
   ]
  },
  {
   "cell_type": "markdown",
   "metadata": {},
   "source": [
    "These are the two classes in the dataset, where \"1\" corresponds to a positive review and \"0\" corresponds to a negative review. We don't need to encode the labels as they are already integers."
   ]
  },
  {
   "cell_type": "code",
   "execution_count": 10,
   "metadata": {},
   "outputs": [
    {
     "name": "stdout",
     "output_type": "stream",
     "text": [
      "   labels                                          sentences\n",
      "0       1  strange occurrences build in the mind of the v...\n",
      "1       1  jones ... makes a great impression as the writ...\n",
      "2       0  at best , cletis tout might inspire a trip to ...\n",
      "3       0  with a romantic comedy plotline straight from ...\n",
      "4       1  enough may pander to our basest desires for pa...\n",
      "1    35\n",
      "0    34\n",
      "Name: labels, dtype: int64\n"
     ]
    }
   ],
   "source": [
    "# display stats and examples for label types\n",
    "print(df_train[[LABEL_COL, TEXT_COL]].head())\n",
    "print(df_train[LABEL_COL].value_counts())\n",
    "\n",
    "# create training and testing labels\n",
    "labels_train = df_train[LABEL_COL]\n",
    "labels_test = df_test[LABEL_COL]"
   ]
  },
  {
   "cell_type": "code",
   "execution_count": 11,
   "metadata": {},
   "outputs": [
    {
     "name": "stdout",
     "output_type": "stream",
     "text": [
      "Number of unique labels: 2\n",
      "Number of training examples: 69\n",
      "Number of testing examples: 18\n"
     ]
    }
   ],
   "source": [
    "num_labels = len(np.unique(labels_train))\n",
    "print(\"Number of unique labels: {}\".format(num_labels))\n",
    "print(\"Number of training examples: {}\".format(df_train.shape[0]))\n",
    "print(\"Number of testing examples: {}\".format(df_test.shape[0]))"
   ]
  },
  {
   "cell_type": "markdown",
   "metadata": {},
   "source": [
    "## Tokenize and Preprocess"
   ]
  },
  {
   "cell_type": "markdown",
   "metadata": {},
   "source": [
    "Before we start training, we tokenize the text documents and convert them to lists of tokens. The following steps instantiate a `BERT tokenizer` given the language, and tokenize the text of the training and testing sets."
   ]
  },
  {
   "cell_type": "code",
   "execution_count": 12,
   "metadata": {},
   "outputs": [
    {
     "name": "stderr",
     "output_type": "stream",
     "text": [
      "I0109 11:29:38.392958 140364218693440 file_utils.py:224] https://s3.amazonaws.com/models.huggingface.co/bert/bert-base-uncased-vocab.txt not found in cache, downloading to /tmp/tmpyicdmvao\n",
      "100%|██████████| 231508/231508 [00:00<00:00, 4641185.61B/s]\n",
      "I0109 11:29:38.580375 140364218693440 file_utils.py:237] copying /tmp/tmpyicdmvao to cache at ./temp/sst2/26bc1ad6c0ac742e9b52263248f6d0f00068293b33709fae12320c0e35ccfbbb.542ce4285a40d23a559526243235df47c5f75c197f04f37d1a0c124c32c9a084\n",
      "I0109 11:29:38.582956 140364218693440 file_utils.py:241] creating metadata file for ./temp/sst2/26bc1ad6c0ac742e9b52263248f6d0f00068293b33709fae12320c0e35ccfbbb.542ce4285a40d23a559526243235df47c5f75c197f04f37d1a0c124c32c9a084\n",
      "I0109 11:29:38.587434 140364218693440 file_utils.py:250] removing temp file /tmp/tmpyicdmvao\n",
      "I0109 11:29:38.589242 140364218693440 tokenization.py:190] loading vocabulary file https://s3.amazonaws.com/models.huggingface.co/bert/bert-base-uncased-vocab.txt from cache at ./temp/sst2/26bc1ad6c0ac742e9b52263248f6d0f00068293b33709fae12320c0e35ccfbbb.542ce4285a40d23a559526243235df47c5f75c197f04f37d1a0c124c32c9a084\n",
      "100%|██████████| 69/69 [00:00<00:00, 3372.73it/s]\n",
      "100%|██████████| 18/18 [00:00<00:00, 2731.06it/s]"
     ]
    },
    {
     "name": "stdout",
     "output_type": "stream",
     "text": [
      "[['strange', 'occurrences', 'build', 'in', 'the', 'mind', 'of', 'the', 'viewer', 'and', 'take', 'on', 'extreme', 'urgency', '.'], ['jones', '.', '.', '.', 'makes', 'a', 'great', 'impression', 'as', 'the', 'writer', '-', 'director', 'of', 'this', 'little', '$', '1', '.', '8', 'million', 'charm', '##er', ',', 'which', 'may', 'not', 'be', 'cutting', '-', 'edge', 'indie', 'filmmaking', 'but', 'has', 'a', 'huge', 'heart', '.'], ['at', 'best', ',', 'cl', '##eti', '##s', 'to', '##ut', 'might', 'inspire', 'a', 'trip', 'to', 'the', 'video', 'store', '-', '-', 'in', 'search', 'of', 'a', 'better', 'movie', 'experience', '.'], ['with', 'a', 'romantic', 'comedy', 'plot', '##line', 'straight', 'from', 'the', 'ages', ',', 'this', 'cinderella', 'story', 'does', 'n', \"'\", 't', 'have', 'a', 'single', 'surprise', 'up', 'its', 'sleeve', '.'], ['enough', 'may', 'pan', '##der', 'to', 'our', 'bases', '##t', 'desires', 'for', 'pay', '##back', ',', 'but', 'unlike', 'many', 'revenge', 'fantasies', ',', 'it', 'ultimately', 'delivers', '.'], ['sh', '##rew', '##d', 'but', 'pointless', '.'], ['in', 'its', 'own', 'fl', '##ound', '##ering', 'way', ',', 'it', 'gets', 'to', 'you', '.'], ['ring', '##u', 'is', 'a', 'disaster', 'of', 'a', 'story', ',', 'full', 'of', 'holes', 'and', 'completely', 'lacking', 'in', 'chill', '##s', '.'], ['it', 'celebrates', 'the', 'group', \"'\", 's', 'playful', 'spark', 'of', 'non', '##con', '##form', '##ity', ',', 'glancing', 'vivid', '##ly', 'back', 'at', 'what', 'hi', '##bis', '##cus', 'grand', '##ly', 'called', 'his', '`', 'angels', 'of', 'light', '.', \"'\"], ['the', 'jokes', 'are', 'telegraph', '##ed', 'so', 'far', 'in', 'advance', 'they', 'must', 'have', 'been', 'lost', 'in', 'the', 'mail', '.'], ['a', 'bland', 'animated', 'sequel', 'that', 'hardly', 'seems', 'worth', 'the', 'effort', '.'], ['i', 'liked', 'this', 'film', 'a', 'lot', '.', '.', '.'], ['it', 'has', 'no', 'affect', 'on', 'the', 'ku', '##rds', ',', 'but', 'it', 'wore', 'me', 'down', '.'], ['the', 'action', 'here', 'is', 'unusually', 'tame', ',', 'the', 'characters', 'are', 'too', 'sim', '##pl', '##istic', 'to', 'maintain', 'interest', ',', 'and', 'the', 'plot', 'offers', 'few', 'surprises', '.'], ['many', 'went', 'to', 'see', 'the', 'attraction', 'for', 'the', 'sole', 'reason', 'that', 'it', 'was', 'hot', 'outside', 'and', 'there', 'was', 'air', 'conditioning', 'inside', ',', 'and', 'i', 'do', 'n', \"'\", 't', 'think', 'that', 'a', '.', 'c', '.', 'will', 'help', 'this', 'movie', 'one', 'bit', '.'], ['although', 'este', '##la', 'bravo', \"'\", 's', 'documentary', 'is', 'cl', '##oy', '##ingly', 'ha', '##gio', '##graphic', 'in', 'its', 'portrait', 'of', 'cuban', 'leader', 'fide', '##l', 'castro', ',', 'it', \"'\", 's', 'still', 'a', 'guilty', 'pleasure', 'to', 'watch', '.'], ['a', 'real', 'audience', '-', 'please', '##r', 'that', 'will', 'strike', 'a', 'chord', 'with', 'anyone', 'who', \"'\", 's', 'ever', 'waited', 'in', 'a', 'doctor', \"'\", 's', 'office', ',', 'emergency', 'room', ',', 'hospital', 'bed', 'or', 'insurance', 'company', 'office', '.'], ['a', 'fake', 'street', 'drama', 'that', 'keeps', 'telling', 'you', 'things', 'instead', 'of', 'showing', 'them', '.'], ['the', 'first', 'bond', 'movie', 'in', 'ages', 'that', 'is', 'n', \"'\", 't', 'fake', 'fun', '.'], ['a', 'harrow', '##ing', 'account', 'of', 'a', 'psychological', 'breakdown', '.'], ['hailed', 'as', 'a', 'clever', 'exercise', 'in', 'neo', '-', 'hitchcock', '##iani', '##sm', ',', 'this', 'clever', 'and', 'very', 'satisfying', 'picture', 'is', 'more', 'accurately', 'cha', '##bro', '##lian', '.'], ['unlike', 'lots', 'of', 'hollywood', 'flu', '##ff', ',', 'this', 'has', 'layered', ',', 'well', '-', 'developed', 'characters', 'and', 'some', 'surprises', '.'], ['surprisingly', 'powerful', 'and', 'universal', '.'], ['a', 'grit', '##ti', '##ly', 'beautiful', 'film', 'that', 'looks', ',', 'sounds', ',', 'and', 'feels', 'more', 'like', 'an', 'extended', ',', 'open', '-', 'ended', 'poem', 'than', 'a', 'traditionally', 'structured', 'story', '.'], ['kids', 'will', 'love', 'its', 'fantasy', 'and', 'adventure', ',', 'and', 'grown', '##ups', 'should', 'appreciate', 'its', 'w', '##him', '##sic', '##al', 'humor', '.'], ['it', \"'\", 's', 'an', 'interesting', 'effort', '-', 'l', '##rb', '-', 'particularly', 'for', 'j', '##fk', 'conspiracy', 'nuts', '-', 'rr', '##b', '-', ',', 'and', 'barry', \"'\", 's', 'cold', '-', 'fish', 'act', 'makes', 'the', 'experience', 'worth', '##while', '.'], ['.', '.', '.', 'the', 'whole', 'thing', 'succeeded', 'only', 'in', 'making', 'me', 'gr', '##og', '##gy', '.'], ['a', 'beyond', '-', 'lame', 'satire', ',', 'teddy', 'bears', \"'\", 'picnic', 'ranks', 'among', 'the', 'most', 'pit', '##iful', 'directing', 'debuts', 'by', 'an', 'esteem', '##ed', 'writer', '-', 'actor', '.'], [',', 'is', 'a', 'temporal', 'inquiry', 'that', 'shoulders', 'its', 'philosophical', 'burden', 'lightly', '.'], ['for', 've', '##gg', '##ie', '##tale', '##s', 'fans', ',', 'this', 'is', 'more', 'app', '##eti', '##zing', 'than', 'a', 'side', 'dish', 'of', 'as', '##para', '##gus', '.'], ['fred', 'sc', '##he', '##pis', '##i', \"'\", 's', 'tale', 'of', 'four', 'english', '##men', 'facing', 'the', 'prospect', 'of', 'their', 'own', 'mortality', 'views', 'youthful', 'af', '##fl', '##uen', '##ce', 'not', 'as', 'a', 'lost', 'ideal', 'but', 'a', 'starting', 'point', '.'], ['no', 'big', 'who', '##op', ',', 'nothing', 'new', 'to', 'see', ',', 'zero', 'thrill', '##s', ',', 'too', 'many', 'flashbacks', 'and', 'a', 'chop', '##py', 'ending', 'make', 'for', 'a', 'bad', 'film', '.'], ['as', 'steam', '##y', 'as', 'last', 'week', \"'\", 's', 'pork', 'dump', '##lings', '.'], ['like', 'a', 'skill', '##ful', 'fisher', ',', 'the', 'director', 'uses', 'the', 'last', 'act', 'to', 'reel', 'in', 'the', 'audience', 'since', 'its', 'po', '##ign', '##ancy', 'hooks', 'us', 'completely', '.'], ['the', 'cast', 'is', 'top', '-', 'notch', 'and', 'i', 'predict', 'there', 'will', 'be', 'plenty', 'of', 'female', 'audience', 'members', 'dr', '##ool', '##ing', 'over', 'michael', 'id', '##em', '##oto', 'as', 'michael', '.'], ['an', 'emotionally', 'strong', 'and', 'politically', 'potent', 'piece', 'of', 'cinema', '.'], ['once', 'one', 'experiences', 'mr', '.', 'han', '##eke', \"'\", 's', 'own', 'sad', '##istic', 'tendencies', 'toward', 'his', 'audience', ',', 'one', 'is', 'left', 'with', 'a', 'sour', 'taste', 'in', 'one', \"'\", 's', 'mouth', ',', 'and', 'little', 'else', '.'], ['an', 'uneven', 'look', 'into', 'a', 'grim', 'future', 'that', 'does', 'n', \"'\", 't', 'come', 'close', 'to', 'the', 'level', 'of', 'intelligence', 'and', 'visual', 'sp', '##len', '##dou', '##r', 'that', 'can', 'be', 'seen', 'in', 'other', 'films', 'based', 'on', 'philip', 'k', '.', 'dick', 'stories', '.'], ['but', 'it', 'will', 'just', 'as', 'likely', 'make', 'you', 'weep', ',', 'and', 'it', 'will', 'do', 'so', 'in', 'a', 'way', 'that', 'does', 'n', \"'\", 't', 'make', 'you', 'feel', 'like', 'a', 'sucker', '.'], ['the', 'acting', 'is', 'just', 'fine', ',', 'but', 'there', \"'\", 's', 'not', 'enough', 'substance', 'here', 'to', 'sustain', 'interest', 'for', 'the', 'full', '90', 'minutes', ',', 'especially', 'with', 'the', 'weak', 'pay', '##off', '.'], ['the', 'search', 'for', 'redemption', 'makes', 'for', 'a', 'touching', 'love', 'story', ',', 'mainly', 'because', 'blanche', '##tt', 'and', 'rib', '##isi', 'compelling', '##ly', 'tap', 'into', 'a', 'spiritual', 'aspect', 'of', 'their', 'characters', \"'\", 'suffering', '.'], ['such', 'a', 'bad', 'movie', 'that', 'its', 'luck', '##iest', 'viewers', 'will', 'be', 'seated', 'next', 'to', 'one', 'of', 'those', 'ignorant', 'pin', '##heads', 'who', 'talk', 'throughout', 'the', 'show', '.'], ['a', 'marvelous', 'performance', 'by', 'allison', 'lo', '##hman', 'as', 'an', 'identity', '-', 'seeking', 'foster', 'child', '.'], ['funny', ',', 'somber', ',', 'absurd', ',', 'and', ',', 'finally', ',', 'aching', '##ly', 'sad', ',', 'bart', '##le', '##by', 'is', 'a', 'fine', ',', 'under', '##sta', '##ted', 'piece', 'of', 'filmmaking', '.'], ['and', 'it', \"'\", 's', 'not', 'that', 'funny', '-', '-', 'which', 'is', 'just', 'generally', 'insulting', '.'], ['a', 'fascinating', 'documentary', 'about', 'the', 'long', 'and', 'event', '##ful', 'spiritual', 'journey', 'of', 'the', 'guru', 'who', 'helped', 'launch', 'the', 'new', 'age', '.'], ['the', 'code', 'talk', '##ers', 'deserved', 'better', 'than', 'a', 'hollow', 'tribute', '.'], ['charlotte', 'sometimes', 'is', 'a', 'gem', '.'], ['everything', '-', '-', 'even', 'life', 'on', 'an', 'aircraft', 'carrier', '-', '-', 'is', 'sentimental', '##ized', '.'], ['gorgeous', 'to', 'look', 'at', 'but', 'ins', '##uf', '##fera', '##bly', 'ted', '##ious', 'and', 'tu', '##rg', '##id', '.', '.', '.', 'a', 'curiously', 'con', '##st', '##ricted', 'epic', '.'], ['the', 'emperor', \"'\", 's', 'club', ',', 'ruthless', 'in', 'its', 'own', 'pl', '##ac', '##id', 'way', ',', 'finds', 'one', 'of', 'our', 'most', 'conservative', 'and', 'hide', '##bound', 'movie', '-', 'making', 'traditions', 'and', 'gives', 'it', 'new', 'texture', ',', 'new', 'relevance', ',', 'new', 'reality', '.'], ['too', 'much', 'of', 'nemesis', 'has', 'a', 'tired', ',', 'talk', '##y', 'feel', '.'], ['implicit', '##ly', 'acknowledges', 'and', 'celebrates', 'the', 'glorious', 'chi', '##can', '##ery', 'and', 'self', '-', 'del', '##usion', 'of', 'this', 'most', 'american', 'of', 'businesses', ',', 'and', 'for', 'that', 'reason', 'it', 'may', 'be', 'the', 'most', 'oddly', 'honest', 'hollywood', 'document', 'of', 'all', '.'], ['in', '##vent', '##ive', ',', 'fun', ',', 'into', '##xi', '##cating', '##ly', 'sexy', ',', 'violent', ',', 'self', '-', 'ind', '##ul', '##gent', 'and', 'madden', '##ing', '.'], ['the', 'story', 'itself', 'is', 'actually', 'quite', 'va', '##pid', '.'], ['it', \"'\", 's', 'the', 'cute', 'fr', '##isson', '##s', 'of', 'discovery', 'and', 'humor', 'between', 'chaplin', 'and', 'kid', '##man', 'that', 'keep', 'this', 'nicely', 'wound', 'clock', 'not', 'just', 'ticking', ',', 'but', 'humming', '.'], ['if', 'the', 'last', 'man', 'were', 'the', 'last', 'movie', 'left', 'on', 'earth', ',', 'there', 'would', 'be', 'a', 'toss', '-', 'up', 'between', 'presiding', 'over', 'the', 'end', 'of', 'cinema', 'as', 'we', 'know', 'it', 'and', 'another', 'night', 'of', 'delightful', 'hand', 'shadows', '.'], ['a', 'film', 'without', 'surprise', 'geared', 'toward', 'maximum', 'comfort', 'and', 'familiarity', '.'], ['.', '.', '.', 'better', 'described', 'as', 'a', 'ghost', 'story', 'gone', 'badly', 'aw', '##ry', '.'], ['what', 'more', 'can', 'be', 'expected', 'from', 'a', 'college', 'comedy', 'that', \"'\", 's', 'target', 'audience', 'has', 'n', \"'\", 't', 'graduated', 'from', 'junior', 'high', 'school', '?'], ['michael', 'moore', 'has', 'perfect', '##ed', 'the', 'art', 'of', 'highly', 'entertaining', ',', 'self', '-', 'ag', '##gra', '##ndi', '##zing', ',', 'politically', 'motivated', 'documentary', '-', 'making', ',', 'and', 'he', \"'\", 's', 'got', 'as', 'potent', 'a', 'topic', 'as', 'ever', 'here', '.'], ['this', 'story', 'of', 'a', 'determined', 'woman', \"'\", 's', 'courage', 'to', 'find', 'her', 'husband', 'in', 'a', 'war', 'zone', 'offers', 'winning', 'performances', 'and', 'some', 'effect', '##ing', 'moments', '.'], ['the', 'attempt', 'to', 'build', 'up', 'a', 'pressure', 'cooke', '##r', 'of', 'horrified', 'awe', 'emerges', 'from', 'the', 'simple', 'fact', 'that', 'the', 'movie', 'has', 'virtually', 'nothing', 'to', 'show', '.'], ['the', 'trapping', '##s', 'of', 'i', 'spy', 'are', 'so', 'familiar', 'you', 'might', 'as', 'well', 'be', 'watching', 'a', 're', '##run', '.'], ['a', 'so', '-', 'so', ',', 'made', '-', 'for', '-', 'tv', 'something', 'posing', 'as', 'a', 'real', 'movie', '.'], ['the', 'movie', 'is', 'about', 'as', 'deep', 'as', 'that', 'sentiment', '.'], ['one', 'of', 'the', 'worst', 'movies', 'of', 'the', 'year', '.'], ['the', 'film', 'does', 'give', 'a', 'pretty', 'good', 'overall', 'picture', 'of', 'the', 'situation', 'in', 'lara', '##mie', 'following', 'the', 'murder', 'of', 'matthew', 'shepard', '.'], ['what', \"'\", 's', 'missing', 'in', 'murder', 'by', 'numbers', 'is', 'any', 'real', 'psychological', 'ground', '##ing', 'for', 'the', 'teens', \"'\", 'devi', '##ant', 'behaviour', '.']]\n"
     ]
    },
    {
     "name": "stderr",
     "output_type": "stream",
     "text": [
      "\n"
     ]
    }
   ],
   "source": [
    "tokenizer = Tokenizer(LANGUAGE, to_lower=TO_LOWER, cache_dir=BERT_CACHE_DIR)\n",
    "\n",
    "tokens_train = tokenizer.tokenize(list(df_train[TEXT_COL]))\n",
    "tokens_test = tokenizer.tokenize(list(df_test[TEXT_COL]))\n",
    "\n",
    "print(tokens_train)"
   ]
  },
  {
   "cell_type": "markdown",
   "metadata": {},
   "source": [
    "In addition, we perform the following preprocessing steps in the cell below:\n",
    "- Convert the tokens into token indices corresponding to the BERT tokenizer's vocabulary\n",
    "- Add the special tokens [CLS] and [SEP] to mark the beginning and end of a sentence, respectively\n",
    "- Pad or truncate the token lists to the specified max length. In this case, `MAX_LEN = 150`\n",
    "- Return mask lists that indicate the paddings' positions\n",
    "- Return token type id lists that indicate which sentence the tokens belong to (not needed for one-sequence classification)\n",
    "\n",
    "*See the original [implementation](https://github.com/google-research/bert/blob/master/run_classifier.py) for more information on BERT's input format.*"
   ]
  },
  {
   "cell_type": "code",
   "execution_count": 13,
   "metadata": {},
   "outputs": [],
   "source": [
    "tokens_train, mask_train, _ = tokenizer.preprocess_classification_tokens(tokens_train, MAX_LEN)\n",
    "tokens_test, mask_test, _ = tokenizer.preprocess_classification_tokens(tokens_test, MAX_LEN)"
   ]
  },
  {
   "cell_type": "markdown",
   "metadata": {},
   "source": [
    "## Sequence Classifier Model\n",
    "Next, we use a sequence classifier that loads a pre-trained BERT model, given the language and number of labels."
   ]
  },
  {
   "cell_type": "code",
   "execution_count": 14,
   "metadata": {},
   "outputs": [
    {
     "name": "stderr",
     "output_type": "stream",
     "text": [
      "I0109 11:29:44.866021 140364218693440 file_utils.py:224] https://s3.amazonaws.com/models.huggingface.co/bert/bert-base-uncased.tar.gz not found in cache, downloading to /tmp/tmp7jzo78pr\n",
      "100%|██████████| 407873900/407873900 [00:04<00:00, 81875997.02B/s]\n",
      "I0109 11:29:49.974365 140364218693440 file_utils.py:237] copying /tmp/tmp7jzo78pr to cache at ./temp/sst2/9c41111e2de84547a463fd39217199738d1e3deb72d4fec4399e6e241983c6f0.ae3cef932725ca7a30cdcb93fc6e09150a55e2a130ec7af63975a16c153ae2ba\n",
      "I0109 11:29:50.376198 140364218693440 file_utils.py:241] creating metadata file for ./temp/sst2/9c41111e2de84547a463fd39217199738d1e3deb72d4fec4399e6e241983c6f0.ae3cef932725ca7a30cdcb93fc6e09150a55e2a130ec7af63975a16c153ae2ba\n",
      "I0109 11:29:50.377841 140364218693440 file_utils.py:250] removing temp file /tmp/tmp7jzo78pr\n",
      "I0109 11:29:50.440929 140364218693440 modeling.py:580] loading archive file https://s3.amazonaws.com/models.huggingface.co/bert/bert-base-uncased.tar.gz from cache at ./temp/sst2/9c41111e2de84547a463fd39217199738d1e3deb72d4fec4399e6e241983c6f0.ae3cef932725ca7a30cdcb93fc6e09150a55e2a130ec7af63975a16c153ae2ba\n",
      "I0109 11:29:50.442383 140364218693440 modeling.py:588] extracting archive file ./temp/sst2/9c41111e2de84547a463fd39217199738d1e3deb72d4fec4399e6e241983c6f0.ae3cef932725ca7a30cdcb93fc6e09150a55e2a130ec7af63975a16c153ae2ba to temp dir /tmp/tmptm6gd86a\n",
      "I0109 11:29:53.892902 140364218693440 modeling.py:598] Model config {\n",
      "  \"attention_probs_dropout_prob\": 0.1,\n",
      "  \"hidden_act\": \"gelu\",\n",
      "  \"hidden_dropout_prob\": 0.1,\n",
      "  \"hidden_size\": 768,\n",
      "  \"initializer_range\": 0.02,\n",
      "  \"intermediate_size\": 3072,\n",
      "  \"max_position_embeddings\": 512,\n",
      "  \"num_attention_heads\": 12,\n",
      "  \"num_hidden_layers\": 12,\n",
      "  \"type_vocab_size\": 2,\n",
      "  \"vocab_size\": 30522\n",
      "}\n",
      "\n",
      "I0109 11:29:56.914633 140364218693440 modeling.py:648] Weights of BertForSequenceClassification not initialized from pretrained model: ['classifier.weight', 'classifier.bias']\n",
      "I0109 11:29:56.916261 140364218693440 modeling.py:651] Weights from pretrained model not used in BertForSequenceClassification: ['cls.predictions.bias', 'cls.predictions.transform.dense.weight', 'cls.predictions.transform.dense.bias', 'cls.predictions.decoder.weight', 'cls.seq_relationship.weight', 'cls.seq_relationship.bias', 'cls.predictions.transform.LayerNorm.weight', 'cls.predictions.transform.LayerNorm.bias']\n"
     ]
    }
   ],
   "source": [
    "classifier = BERTSequenceClassifier(language=LANGUAGE, num_labels=num_labels, cache_dir=BERT_CACHE_DIR)"
   ]
  },
  {
   "cell_type": "markdown",
   "metadata": {},
   "source": [
    "## Train Model\n",
    "We train the classifier using the training set. This involves fine-tuning the BERT Transformer and learning a linear classification layer on top of that:"
   ]
  },
  {
   "cell_type": "code",
   "execution_count": 15,
   "metadata": {},
   "outputs": [
    {
     "name": "stderr",
     "output_type": "stream",
     "text": [
      "W0109 11:29:56.929049 140364218693440 optimization.py:46] t_total value of -1 results in schedule not being applied\n",
      "Iteration:  11%|█         | 1/9 [00:03<00:27,  3.41s/it]"
     ]
    },
    {
     "name": "stdout",
     "output_type": "stream",
     "text": [
      "epoch:1/1; batch:1->1/9; average training loss:0.671034\n"
     ]
    },
    {
     "name": "stderr",
     "output_type": "stream",
     "text": [
      "\r",
      "Iteration:  22%|██▏       | 2/9 [00:06<00:22,  3.22s/it]"
     ]
    },
    {
     "name": "stdout",
     "output_type": "stream",
     "text": [
      "epoch:1/1; batch:2->2/9; average training loss:0.655887\n"
     ]
    },
    {
     "name": "stderr",
     "output_type": "stream",
     "text": [
      "\r",
      "Iteration:  33%|███▎      | 3/9 [00:08<00:18,  3.04s/it]"
     ]
    },
    {
     "name": "stdout",
     "output_type": "stream",
     "text": [
      "epoch:1/1; batch:3->3/9; average training loss:0.706290\n"
     ]
    },
    {
     "name": "stderr",
     "output_type": "stream",
     "text": [
      "\r",
      "Iteration:  44%|████▍     | 4/9 [00:12<00:16,  3.26s/it]"
     ]
    },
    {
     "name": "stdout",
     "output_type": "stream",
     "text": [
      "epoch:1/1; batch:4->4/9; average training loss:0.696389\n"
     ]
    },
    {
     "name": "stderr",
     "output_type": "stream",
     "text": [
      "\r",
      "Iteration:  56%|█████▌    | 5/9 [00:16<00:13,  3.36s/it]"
     ]
    },
    {
     "name": "stdout",
     "output_type": "stream",
     "text": [
      "epoch:1/1; batch:5->5/9; average training loss:0.695839\n"
     ]
    },
    {
     "name": "stderr",
     "output_type": "stream",
     "text": [
      "\r",
      "Iteration:  67%|██████▋   | 6/9 [00:18<00:09,  3.13s/it]"
     ]
    },
    {
     "name": "stdout",
     "output_type": "stream",
     "text": [
      "epoch:1/1; batch:6->6/9; average training loss:0.682462\n"
     ]
    },
    {
     "name": "stderr",
     "output_type": "stream",
     "text": [
      "\r",
      "Iteration:  78%|███████▊  | 7/9 [00:21<00:05,  2.92s/it]"
     ]
    },
    {
     "name": "stdout",
     "output_type": "stream",
     "text": [
      "epoch:1/1; batch:7->7/9; average training loss:0.680790\n"
     ]
    },
    {
     "name": "stderr",
     "output_type": "stream",
     "text": [
      "\r",
      "Iteration:  89%|████████▉ | 8/9 [00:23<00:02,  2.83s/it]"
     ]
    },
    {
     "name": "stdout",
     "output_type": "stream",
     "text": [
      "epoch:1/1; batch:8->8/9; average training loss:0.689766\n"
     ]
    },
    {
     "name": "stderr",
     "output_type": "stream",
     "text": [
      "\r",
      "Iteration: 100%|██████████| 9/9 [00:26<00:00,  2.68s/it]"
     ]
    },
    {
     "name": "stdout",
     "output_type": "stream",
     "text": [
      "epoch:1/1; batch:9->9/9; average training loss:0.691330\n",
      "[Training time: 0.007 hrs]\n"
     ]
    },
    {
     "name": "stderr",
     "output_type": "stream",
     "text": [
      "\n"
     ]
    }
   ],
   "source": [
    "with Timer() as t:\n",
    "    classifier.fit(token_ids=tokens_train,\n",
    "                    input_mask=mask_train,\n",
    "                    labels=labels_train,    \n",
    "                    num_epochs=NUM_EPOCHS,\n",
    "                    batch_size=BATCH_SIZE,    \n",
    "                    verbose=True)    \n",
    "print(\"[Training time: {:.3f} hrs]\".format(t.interval / 3600))"
   ]
  },
  {
   "cell_type": "markdown",
   "metadata": {},
   "source": [
    "## Score Model\n",
    "We score the test set using the trained classifier:"
   ]
  },
  {
   "cell_type": "code",
   "execution_count": 16,
   "metadata": {},
   "outputs": [
    {
     "name": "stderr",
     "output_type": "stream",
     "text": [
      "Iteration: 100%|██████████| 1/1 [00:01<00:00,  1.56s/it]\n"
     ]
    }
   ],
   "source": [
    "preds = classifier.predict(token_ids=tokens_test, \n",
    "                           input_mask=mask_test, \n",
    "                           batch_size=BATCH_SIZE_PRED)"
   ]
  },
  {
   "cell_type": "markdown",
   "metadata": {},
   "source": [
    "## Evaluate Model\n",
    "Finally, we compute the overall accuracy, precision, recall, and F1 metrics on the test set. We also look at the metrics for eact of the genres in the the dataset. "
   ]
  },
  {
   "cell_type": "code",
   "execution_count": 27,
   "metadata": {},
   "outputs": [
    {
     "name": "stdout",
     "output_type": "stream",
     "text": [
      "accuracy: 0.3333333333333333\n",
      "{\n",
      "    \"0\": {\n",
      "        \"f1-score\": 0.5,\n",
      "        \"precision\": 0.3333333333333333,\n",
      "        \"recall\": 1.0,\n",
      "        \"support\": 6\n",
      "    },\n",
      "    \"1\": {\n",
      "        \"f1-score\": 0.0,\n",
      "        \"precision\": 0.0,\n",
      "        \"recall\": 0.0,\n",
      "        \"support\": 12\n",
      "    },\n",
      "    \"macro avg\": {\n",
      "        \"f1-score\": 0.25,\n",
      "        \"precision\": 0.16666666666666666,\n",
      "        \"recall\": 0.5,\n",
      "        \"support\": 18\n",
      "    },\n",
      "    \"micro avg\": {\n",
      "        \"f1-score\": 0.3333333333333333,\n",
      "        \"precision\": 0.3333333333333333,\n",
      "        \"recall\": 0.3333333333333333,\n",
      "        \"support\": 18\n",
      "    },\n",
      "    \"weighted avg\": {\n",
      "        \"f1-score\": 0.16666666666666666,\n",
      "        \"precision\": 0.1111111111111111,\n",
      "        \"recall\": 0.3333333333333333,\n",
      "        \"support\": 18\n",
      "    }\n",
      "}\n"
     ]
    }
   ],
   "source": [
    "report = classification_report(labels_test, preds, target_names=[1, 0], output_dict=True) \n",
    "accuracy = accuracy_score(labels_test, preds)\n",
    "# change labels in report to strings for ease of display\n",
    "report[\"0\"] = report.pop(0)\n",
    "report[\"1\"] = report.pop(1)\n",
    "\n",
    "print(\"accuracy: {}\".format(accuracy))\n",
    "print(json.dumps(report, indent=4, sort_keys=True))"
   ]
  },
  {
   "cell_type": "code",
   "execution_count": 19,
   "metadata": {},
   "outputs": [
    {
     "data": {
      "application/scrapbook.scrap.json+json": {
       "data": 0.3333333333333333,
       "encoder": "json",
       "name": "accuracy",
       "version": 1
      }
     },
     "metadata": {
      "scrapbook": {
       "data": true,
       "display": false,
       "name": "accuracy"
      }
     },
     "output_type": "display_data"
    },
    {
     "data": {
      "application/scrapbook.scrap.json+json": {
       "data": 0.16666666666666666,
       "encoder": "json",
       "name": "precision",
       "version": 1
      }
     },
     "metadata": {
      "scrapbook": {
       "data": true,
       "display": false,
       "name": "precision"
      }
     },
     "output_type": "display_data"
    },
    {
     "data": {
      "application/scrapbook.scrap.json+json": {
       "data": 0.5,
       "encoder": "json",
       "name": "recall",
       "version": 1
      }
     },
     "metadata": {
      "scrapbook": {
       "data": true,
       "display": false,
       "name": "recall"
      }
     },
     "output_type": "display_data"
    },
    {
     "data": {
      "application/scrapbook.scrap.json+json": {
       "data": 0.25,
       "encoder": "json",
       "name": "f1",
       "version": 1
      }
     },
     "metadata": {
      "scrapbook": {
       "data": true,
       "display": false,
       "name": "f1"
      }
     },
     "output_type": "display_data"
    }
   ],
   "source": [
    "# for testing\n",
    "sb.glue(\"accuracy\", accuracy)\n",
    "sb.glue(\"precision\", report[\"macro avg\"][\"precision\"])\n",
    "sb.glue(\"recall\", report[\"macro avg\"][\"recall\"])\n",
    "sb.glue(\"f1\", report[\"macro avg\"][\"f1-score\"])"
   ]
  },
  {
   "cell_type": "markdown",
   "metadata": {},
   "source": [
    "## Explain Model"
   ]
  },
  {
   "cell_type": "code",
   "execution_count": 20,
   "metadata": {},
   "outputs": [
    {
     "data": {
      "text/plain": [
       "BertForSequenceClassification(\n",
       "  (bert): BertModel(\n",
       "    (embeddings): BertEmbeddings(\n",
       "      (word_embeddings): Embedding(30522, 768, padding_idx=0)\n",
       "      (position_embeddings): Embedding(512, 768)\n",
       "      (token_type_embeddings): Embedding(2, 768)\n",
       "      (LayerNorm): BertLayerNorm()\n",
       "      (dropout): Dropout(p=0.1, inplace=False)\n",
       "    )\n",
       "    (encoder): BertEncoder(\n",
       "      (layer): ModuleList(\n",
       "        (0): BertLayer(\n",
       "          (attention): BertAttention(\n",
       "            (self): BertSelfAttention(\n",
       "              (query): Linear(in_features=768, out_features=768, bias=True)\n",
       "              (key): Linear(in_features=768, out_features=768, bias=True)\n",
       "              (value): Linear(in_features=768, out_features=768, bias=True)\n",
       "              (dropout): Dropout(p=0.1, inplace=False)\n",
       "            )\n",
       "            (output): BertSelfOutput(\n",
       "              (dense): Linear(in_features=768, out_features=768, bias=True)\n",
       "              (LayerNorm): BertLayerNorm()\n",
       "              (dropout): Dropout(p=0.1, inplace=False)\n",
       "            )\n",
       "          )\n",
       "          (intermediate): BertIntermediate(\n",
       "            (dense): Linear(in_features=768, out_features=3072, bias=True)\n",
       "          )\n",
       "          (output): BertOutput(\n",
       "            (dense): Linear(in_features=3072, out_features=768, bias=True)\n",
       "            (LayerNorm): BertLayerNorm()\n",
       "            (dropout): Dropout(p=0.1, inplace=False)\n",
       "          )\n",
       "        )\n",
       "        (1): BertLayer(\n",
       "          (attention): BertAttention(\n",
       "            (self): BertSelfAttention(\n",
       "              (query): Linear(in_features=768, out_features=768, bias=True)\n",
       "              (key): Linear(in_features=768, out_features=768, bias=True)\n",
       "              (value): Linear(in_features=768, out_features=768, bias=True)\n",
       "              (dropout): Dropout(p=0.1, inplace=False)\n",
       "            )\n",
       "            (output): BertSelfOutput(\n",
       "              (dense): Linear(in_features=768, out_features=768, bias=True)\n",
       "              (LayerNorm): BertLayerNorm()\n",
       "              (dropout): Dropout(p=0.1, inplace=False)\n",
       "            )\n",
       "          )\n",
       "          (intermediate): BertIntermediate(\n",
       "            (dense): Linear(in_features=768, out_features=3072, bias=True)\n",
       "          )\n",
       "          (output): BertOutput(\n",
       "            (dense): Linear(in_features=3072, out_features=768, bias=True)\n",
       "            (LayerNorm): BertLayerNorm()\n",
       "            (dropout): Dropout(p=0.1, inplace=False)\n",
       "          )\n",
       "        )\n",
       "        (2): BertLayer(\n",
       "          (attention): BertAttention(\n",
       "            (self): BertSelfAttention(\n",
       "              (query): Linear(in_features=768, out_features=768, bias=True)\n",
       "              (key): Linear(in_features=768, out_features=768, bias=True)\n",
       "              (value): Linear(in_features=768, out_features=768, bias=True)\n",
       "              (dropout): Dropout(p=0.1, inplace=False)\n",
       "            )\n",
       "            (output): BertSelfOutput(\n",
       "              (dense): Linear(in_features=768, out_features=768, bias=True)\n",
       "              (LayerNorm): BertLayerNorm()\n",
       "              (dropout): Dropout(p=0.1, inplace=False)\n",
       "            )\n",
       "          )\n",
       "          (intermediate): BertIntermediate(\n",
       "            (dense): Linear(in_features=768, out_features=3072, bias=True)\n",
       "          )\n",
       "          (output): BertOutput(\n",
       "            (dense): Linear(in_features=3072, out_features=768, bias=True)\n",
       "            (LayerNorm): BertLayerNorm()\n",
       "            (dropout): Dropout(p=0.1, inplace=False)\n",
       "          )\n",
       "        )\n",
       "        (3): BertLayer(\n",
       "          (attention): BertAttention(\n",
       "            (self): BertSelfAttention(\n",
       "              (query): Linear(in_features=768, out_features=768, bias=True)\n",
       "              (key): Linear(in_features=768, out_features=768, bias=True)\n",
       "              (value): Linear(in_features=768, out_features=768, bias=True)\n",
       "              (dropout): Dropout(p=0.1, inplace=False)\n",
       "            )\n",
       "            (output): BertSelfOutput(\n",
       "              (dense): Linear(in_features=768, out_features=768, bias=True)\n",
       "              (LayerNorm): BertLayerNorm()\n",
       "              (dropout): Dropout(p=0.1, inplace=False)\n",
       "            )\n",
       "          )\n",
       "          (intermediate): BertIntermediate(\n",
       "            (dense): Linear(in_features=768, out_features=3072, bias=True)\n",
       "          )\n",
       "          (output): BertOutput(\n",
       "            (dense): Linear(in_features=3072, out_features=768, bias=True)\n",
       "            (LayerNorm): BertLayerNorm()\n",
       "            (dropout): Dropout(p=0.1, inplace=False)\n",
       "          )\n",
       "        )\n",
       "        (4): BertLayer(\n",
       "          (attention): BertAttention(\n",
       "            (self): BertSelfAttention(\n",
       "              (query): Linear(in_features=768, out_features=768, bias=True)\n",
       "              (key): Linear(in_features=768, out_features=768, bias=True)\n",
       "              (value): Linear(in_features=768, out_features=768, bias=True)\n",
       "              (dropout): Dropout(p=0.1, inplace=False)\n",
       "            )\n",
       "            (output): BertSelfOutput(\n",
       "              (dense): Linear(in_features=768, out_features=768, bias=True)\n",
       "              (LayerNorm): BertLayerNorm()\n",
       "              (dropout): Dropout(p=0.1, inplace=False)\n",
       "            )\n",
       "          )\n",
       "          (intermediate): BertIntermediate(\n",
       "            (dense): Linear(in_features=768, out_features=3072, bias=True)\n",
       "          )\n",
       "          (output): BertOutput(\n",
       "            (dense): Linear(in_features=3072, out_features=768, bias=True)\n",
       "            (LayerNorm): BertLayerNorm()\n",
       "            (dropout): Dropout(p=0.1, inplace=False)\n",
       "          )\n",
       "        )\n",
       "        (5): BertLayer(\n",
       "          (attention): BertAttention(\n",
       "            (self): BertSelfAttention(\n",
       "              (query): Linear(in_features=768, out_features=768, bias=True)\n",
       "              (key): Linear(in_features=768, out_features=768, bias=True)\n",
       "              (value): Linear(in_features=768, out_features=768, bias=True)\n",
       "              (dropout): Dropout(p=0.1, inplace=False)\n",
       "            )\n",
       "            (output): BertSelfOutput(\n",
       "              (dense): Linear(in_features=768, out_features=768, bias=True)\n",
       "              (LayerNorm): BertLayerNorm()\n",
       "              (dropout): Dropout(p=0.1, inplace=False)\n",
       "            )\n",
       "          )\n",
       "          (intermediate): BertIntermediate(\n",
       "            (dense): Linear(in_features=768, out_features=3072, bias=True)\n",
       "          )\n",
       "          (output): BertOutput(\n",
       "            (dense): Linear(in_features=3072, out_features=768, bias=True)\n",
       "            (LayerNorm): BertLayerNorm()\n",
       "            (dropout): Dropout(p=0.1, inplace=False)\n",
       "          )\n",
       "        )\n",
       "        (6): BertLayer(\n",
       "          (attention): BertAttention(\n",
       "            (self): BertSelfAttention(\n",
       "              (query): Linear(in_features=768, out_features=768, bias=True)\n",
       "              (key): Linear(in_features=768, out_features=768, bias=True)\n",
       "              (value): Linear(in_features=768, out_features=768, bias=True)\n",
       "              (dropout): Dropout(p=0.1, inplace=False)\n",
       "            )\n",
       "            (output): BertSelfOutput(\n",
       "              (dense): Linear(in_features=768, out_features=768, bias=True)\n",
       "              (LayerNorm): BertLayerNorm()\n",
       "              (dropout): Dropout(p=0.1, inplace=False)\n",
       "            )\n",
       "          )\n",
       "          (intermediate): BertIntermediate(\n",
       "            (dense): Linear(in_features=768, out_features=3072, bias=True)\n",
       "          )\n",
       "          (output): BertOutput(\n",
       "            (dense): Linear(in_features=3072, out_features=768, bias=True)\n",
       "            (LayerNorm): BertLayerNorm()\n",
       "            (dropout): Dropout(p=0.1, inplace=False)\n",
       "          )\n",
       "        )\n",
       "        (7): BertLayer(\n",
       "          (attention): BertAttention(\n",
       "            (self): BertSelfAttention(\n",
       "              (query): Linear(in_features=768, out_features=768, bias=True)\n",
       "              (key): Linear(in_features=768, out_features=768, bias=True)\n",
       "              (value): Linear(in_features=768, out_features=768, bias=True)\n",
       "              (dropout): Dropout(p=0.1, inplace=False)\n",
       "            )\n",
       "            (output): BertSelfOutput(\n",
       "              (dense): Linear(in_features=768, out_features=768, bias=True)\n",
       "              (LayerNorm): BertLayerNorm()\n",
       "              (dropout): Dropout(p=0.1, inplace=False)\n",
       "            )\n",
       "          )\n",
       "          (intermediate): BertIntermediate(\n",
       "            (dense): Linear(in_features=768, out_features=3072, bias=True)\n",
       "          )\n",
       "          (output): BertOutput(\n",
       "            (dense): Linear(in_features=3072, out_features=768, bias=True)\n",
       "            (LayerNorm): BertLayerNorm()\n",
       "            (dropout): Dropout(p=0.1, inplace=False)\n",
       "          )\n",
       "        )\n",
       "        (8): BertLayer(\n",
       "          (attention): BertAttention(\n",
       "            (self): BertSelfAttention(\n",
       "              (query): Linear(in_features=768, out_features=768, bias=True)\n",
       "              (key): Linear(in_features=768, out_features=768, bias=True)\n",
       "              (value): Linear(in_features=768, out_features=768, bias=True)\n",
       "              (dropout): Dropout(p=0.1, inplace=False)\n",
       "            )\n",
       "            (output): BertSelfOutput(\n",
       "              (dense): Linear(in_features=768, out_features=768, bias=True)\n",
       "              (LayerNorm): BertLayerNorm()\n",
       "              (dropout): Dropout(p=0.1, inplace=False)\n",
       "            )\n",
       "          )\n",
       "          (intermediate): BertIntermediate(\n",
       "            (dense): Linear(in_features=768, out_features=3072, bias=True)\n",
       "          )\n",
       "          (output): BertOutput(\n",
       "            (dense): Linear(in_features=3072, out_features=768, bias=True)\n",
       "            (LayerNorm): BertLayerNorm()\n",
       "            (dropout): Dropout(p=0.1, inplace=False)\n",
       "          )\n",
       "        )\n",
       "        (9): BertLayer(\n",
       "          (attention): BertAttention(\n",
       "            (self): BertSelfAttention(\n",
       "              (query): Linear(in_features=768, out_features=768, bias=True)\n",
       "              (key): Linear(in_features=768, out_features=768, bias=True)\n",
       "              (value): Linear(in_features=768, out_features=768, bias=True)\n",
       "              (dropout): Dropout(p=0.1, inplace=False)\n",
       "            )\n",
       "            (output): BertSelfOutput(\n",
       "              (dense): Linear(in_features=768, out_features=768, bias=True)\n",
       "              (LayerNorm): BertLayerNorm()\n",
       "              (dropout): Dropout(p=0.1, inplace=False)\n",
       "            )\n",
       "          )\n",
       "          (intermediate): BertIntermediate(\n",
       "            (dense): Linear(in_features=768, out_features=3072, bias=True)\n",
       "          )\n",
       "          (output): BertOutput(\n",
       "            (dense): Linear(in_features=3072, out_features=768, bias=True)\n",
       "            (LayerNorm): BertLayerNorm()\n",
       "            (dropout): Dropout(p=0.1, inplace=False)\n",
       "          )\n",
       "        )\n",
       "        (10): BertLayer(\n",
       "          (attention): BertAttention(\n",
       "            (self): BertSelfAttention(\n",
       "              (query): Linear(in_features=768, out_features=768, bias=True)\n",
       "              (key): Linear(in_features=768, out_features=768, bias=True)\n",
       "              (value): Linear(in_features=768, out_features=768, bias=True)\n",
       "              (dropout): Dropout(p=0.1, inplace=False)\n",
       "            )\n",
       "            (output): BertSelfOutput(\n",
       "              (dense): Linear(in_features=768, out_features=768, bias=True)\n",
       "              (LayerNorm): BertLayerNorm()\n",
       "              (dropout): Dropout(p=0.1, inplace=False)\n",
       "            )\n",
       "          )\n",
       "          (intermediate): BertIntermediate(\n",
       "            (dense): Linear(in_features=768, out_features=3072, bias=True)\n",
       "          )\n",
       "          (output): BertOutput(\n",
       "            (dense): Linear(in_features=3072, out_features=768, bias=True)\n",
       "            (LayerNorm): BertLayerNorm()\n",
       "            (dropout): Dropout(p=0.1, inplace=False)\n",
       "          )\n",
       "        )\n",
       "        (11): BertLayer(\n",
       "          (attention): BertAttention(\n",
       "            (self): BertSelfAttention(\n",
       "              (query): Linear(in_features=768, out_features=768, bias=True)\n",
       "              (key): Linear(in_features=768, out_features=768, bias=True)\n",
       "              (value): Linear(in_features=768, out_features=768, bias=True)\n",
       "              (dropout): Dropout(p=0.1, inplace=False)\n",
       "            )\n",
       "            (output): BertSelfOutput(\n",
       "              (dense): Linear(in_features=768, out_features=768, bias=True)\n",
       "              (LayerNorm): BertLayerNorm()\n",
       "              (dropout): Dropout(p=0.1, inplace=False)\n",
       "            )\n",
       "          )\n",
       "          (intermediate): BertIntermediate(\n",
       "            (dense): Linear(in_features=768, out_features=3072, bias=True)\n",
       "          )\n",
       "          (output): BertOutput(\n",
       "            (dense): Linear(in_features=3072, out_features=768, bias=True)\n",
       "            (LayerNorm): BertLayerNorm()\n",
       "            (dropout): Dropout(p=0.1, inplace=False)\n",
       "          )\n",
       "        )\n",
       "      )\n",
       "    )\n",
       "    (pooler): BertPooler(\n",
       "      (dense): Linear(in_features=768, out_features=768, bias=True)\n",
       "      (activation): Tanh()\n",
       "    )\n",
       "  )\n",
       "  (dropout): Dropout(p=0.1, inplace=False)\n",
       "  (classifier): Linear(in_features=768, out_features=2, bias=True)\n",
       ")"
      ]
     },
     "execution_count": 20,
     "metadata": {},
     "output_type": "execute_result"
    }
   ],
   "source": [
    "device = torch.device(\"cpu\" if not torch.cuda.is_available() else \"cuda\")\n",
    "\n",
    "classifier.model.to(device)\n",
    "for param in classifier.model.parameters():\n",
    "    param.requires_grad = False\n",
    "classifier.model.eval()"
   ]
  },
  {
   "cell_type": "code",
   "execution_count": 21,
   "metadata": {},
   "outputs": [],
   "source": [
    "interpreter_msra = MSRAExplainer(model=classifier.model, \n",
    "                                 train_dataset=list(df_train[TEXT_COL]), \n",
    "                                 device=device, \n",
    "                                 target_layer=14)"
   ]
  },
  {
   "cell_type": "code",
   "execution_count": 22,
   "metadata": {},
   "outputs": [
    {
     "name": "stdout",
     "output_type": "stream",
     "text": [
      "mr. wedge and mr. saldanha handle the mix of verbal jokes and slapstick well .\n",
      " 1\n"
     ]
    }
   ],
   "source": [
    "text = df_test[TEXT_COL][1]\n",
    "label = df_test[LABEL_COL][1]\n",
    "print(text, label)"
   ]
  },
  {
   "cell_type": "code",
   "execution_count": 23,
   "metadata": {},
   "outputs": [
    {
     "name": "stderr",
     "output_type": "stream",
     "text": [
      "I0109 11:33:21.194610 140364218693440 tokenization.py:190] loading vocabulary file https://s3.amazonaws.com/models.huggingface.co/bert/bert-base-uncased-vocab.txt from cache at /home/maidap/.pytorch_pretrained_bert/26bc1ad6c0ac742e9b52263248f6d0f00068293b33709fae12320c0e35ccfbbb.542ce4285a40d23a559526243235df47c5f75c197f04f37d1a0c124c32c9a084\n",
      "I0109 11:33:21.420469 140364218693440 tokenization.py:190] loading vocabulary file https://s3.amazonaws.com/models.huggingface.co/bert/bert-base-uncased-vocab.txt from cache at ./temp/26bc1ad6c0ac742e9b52263248f6d0f00068293b33709fae12320c0e35ccfbbb.542ce4285a40d23a559526243235df47c5f75c197f04f37d1a0c124c32c9a084\n",
      "100%|██████████| 69/69 [00:00<00:00, 3399.55it/s]\n",
      "100%|██████████| 50/50 [00:29<00:00,  1.88it/s]\n"
     ]
    }
   ],
   "source": [
    "explanation_msra = interpreter_msra.explain_local(text)"
   ]
  },
  {
   "cell_type": "markdown",
   "metadata": {},
   "source": [
    "## Visualize Explanation"
   ]
  },
  {
   "cell_type": "code",
   "execution_count": 24,
   "metadata": {},
   "outputs": [
    {
     "name": "stderr",
     "output_type": "stream",
     "text": [
      "I0109 11:34:11.307861 140364218693440 tokenization.py:190] loading vocabulary file https://s3.amazonaws.com/models.huggingface.co/bert/bert-base-uncased-vocab.txt from cache at /home/maidap/.pytorch_pretrained_bert/26bc1ad6c0ac742e9b52263248f6d0f00068293b33709fae12320c0e35ccfbbb.542ce4285a40d23a559526243235df47c5f75c197f04f37d1a0c124c32c9a084\n"
     ]
    },
    {
     "data": {
      "image/png": "[encoded data removed]",
      "text/plain": [
       "<Figure size 576x288 with 1 Axes>"
      ]
     },
     "metadata": {
      "needs_background": "light"
     },
     "output_type": "display_data"
    },
    {
     "data": {
      "text/html": [
       "<span style=\"background-color:rgba(135,206,250,0.240360713005066);\">mr</span> <span style=\"background-color:rgba(135,206,250,0.28584918975830087);\">.</span> <span style=\"background-color:rgba(135,206,250,0.5282449483871461);\">wedge</span> <span style=\"background-color:rgba(135,206,250,0.5781256318092347);\">and</span> <span style=\"background-color:rgba(250,0,0,0.25947740077972403);\">mr</span> <span style=\"background-color:rgba(250,0,0,0.2952871561050414);\">.</span> <span style=\"background-color:rgba(250,0,0,0.4642039775848388);\">sal</span> <span style=\"background-color:rgba(135,206,250,0.24120131731033334);\">##dan</span> <span style=\"background-color:rgba(250,0,0,0.5422158479690551);\">##ha</span> <span style=\"background-color:rgba(135,206,250,0.676062709093094);\">handle</span> <span style=\"background-color:rgba(135,206,250,0.127373492717743);\">the</span> <span style=\"background-color:rgba(250,0,0,0.027679586410522372);\">mix</span> <span style=\"background-color:rgba(135,206,250,0.6633499622344972);\">of</span> <span style=\"background-color:rgba(135,206,250,0.6464872419834138);\">verbal</span> <span style=\"background-color:rgba(135,206,250,0.043017125129699796);\">jokes</span> <span style=\"background-color:rgba(250,0,0,0.2594787120819091);\">and</span> <span style=\"background-color:rgba(135,206,250,0.3447243332862855);\">slap</span> <span style=\"background-color:rgba(250,0,0,0.18358602523803702);\">##stick</span> <span style=\"background-color:rgba(135,206,250,0.3890319824218751);\">well</span>"
      ],
      "text/plain": [
       "<IPython.core.display.HTML object>"
      ]
     },
     "metadata": {},
     "output_type": "display_data"
    }
   ],
   "source": [
    "interpreter_msra.visualize(text)"
   ]
  }
 ],
 "metadata": {
  "kernelspec": {
   "display_name": "Python (interpret_cpu)",
   "language": "python",
   "name": "interpret_cpu"
  },
  "language_info": {
   "codemirror_mode": {
    "name": "ipython",
    "version": 3
   },
   "file_extension": ".py",
   "mimetype": "text/x-python",
   "name": "python",
   "nbconvert_exporter": "python",
   "pygments_lexer": "ipython3",
   "version": "3.6.8"
  }
 },
 "nbformat": 4,
 "nbformat_minor": 2
}
